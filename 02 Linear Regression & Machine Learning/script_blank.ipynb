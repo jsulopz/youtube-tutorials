{
 "cells": [
  {
   "cell_type": "markdown",
   "id": "b807f065-b4db-43ed-aece-aac3d7309204",
   "metadata": {},
   "source": [
    "<font size=\"+5\">#01 | Machine Learning & Linear Regression</font>"
   ]
  },
  {
   "cell_type": "markdown",
   "id": "b9a5878e-ec1a-4bd9-931a-99857db4834e",
   "metadata": {},
   "source": [
    "\n",
    "<div class=\"alert alert-warning\">\n",
    "  <ul>\n",
    "    <li>\n",
    "      <b>Python</b> + <b>Data Science</b> Tutorials in ↓\n",
    "      <ul>\n",
    "        <li>\n",
    "          <a href=\"https://www.youtube.com/c/PythonResolver?sub_confirmation=1\"\n",
    "            >YouTube</a\n",
    "          >\n",
    "        </li>\n",
    "        <li>\n",
    "          <a href=\"https://blog.pythonresolver.com/\">Blog</a>\n",
    "        </li>\n",
    "        <li>\n",
    "          <a href=\"https://github.com/jsulopz/00-python-resolver-discipline\">GitHub</a>\n",
    "        </li>\n",
    "      </ul>\n",
    "    </li>\n",
    "    <li>\n",
    "      Author: <a href=\"https://twitter.com/jsulopz\"><b>@jsulopz</b></a>\n",
    "    </li>\n",
    "  </ul>\n",
    "</div>\n",
    "\n",
    "<a href=\"https://colab.research.google.com/github/jsulopz/machine-learning/blob/main/01_Machine%20Learning%20%26%20Linear%20Regression/01practice_machine-learning-linear-regression.ipynb\">\n",
    "  <img src=\"https://colab.research.google.com/assets/colab-badge.svg\" alt=\"Open In Colab\"/>\n",
    "</a>\n"
   ]
  },
  {
   "cell_type": "markdown",
   "id": "e87f6fe7-fb5a-4a8d-b74e-936f0d1788ae",
   "metadata": {},
   "source": [
    "# The Starting *Thing*"
   ]
  },
  {
   "cell_type": "markdown",
   "id": "bae3f5f0-c85e-48c7-8649-6b4fdef9fa38",
   "metadata": {},
   "source": [
    "> - Simply execute the following lines of code to load the data.\n",
    "> - This dataset contains **statistics about Car Accidents** (columns)\n",
    "> - In each one of **USA States** (rows)"
   ]
  },
  {
   "cell_type": "markdown",
   "id": "15945a12-cc71-4689-b0f5-4ac29b34df4c",
   "metadata": {},
   "source": [
    "https://www.kaggle.com/fivethirtyeight/fivethirtyeight-bad-drivers-dataset/"
   ]
  },
  {
   "cell_type": "code",
   "execution_count": 3,
   "id": "f3850a31-bf4a-4c77-951b-89506601dec5",
   "metadata": {},
   "outputs": [
    {
     "data": {
      "text/html": [
       "<div>\n",
       "<style scoped>\n",
       "    .dataframe tbody tr th:only-of-type {\n",
       "        vertical-align: middle;\n",
       "    }\n",
       "\n",
       "    .dataframe tbody tr th {\n",
       "        vertical-align: top;\n",
       "    }\n",
       "\n",
       "    .dataframe thead th {\n",
       "        text-align: right;\n",
       "    }\n",
       "</style>\n",
       "<table border=\"1\" class=\"dataframe\">\n",
       "  <thead>\n",
       "    <tr style=\"text-align: right;\">\n",
       "      <th></th>\n",
       "      <th>alcohol</th>\n",
       "      <th>accidents</th>\n",
       "    </tr>\n",
       "    <tr>\n",
       "      <th>abbrev</th>\n",
       "      <th></th>\n",
       "      <th></th>\n",
       "    </tr>\n",
       "  </thead>\n",
       "  <tbody>\n",
       "    <tr>\n",
       "      <th>CO</th>\n",
       "      <td>3.808</td>\n",
       "      <td>13.6</td>\n",
       "    </tr>\n",
       "    <tr>\n",
       "      <th>NV</th>\n",
       "      <td>4.704</td>\n",
       "      <td>14.7</td>\n",
       "    </tr>\n",
       "    <tr>\n",
       "      <th>AK</th>\n",
       "      <td>4.525</td>\n",
       "      <td>18.1</td>\n",
       "    </tr>\n",
       "    <tr>\n",
       "      <th>ID</th>\n",
       "      <td>4.437</td>\n",
       "      <td>15.3</td>\n",
       "    </tr>\n",
       "    <tr>\n",
       "      <th>MD</th>\n",
       "      <td>4.000</td>\n",
       "      <td>12.5</td>\n",
       "    </tr>\n",
       "    <tr>\n",
       "      <th>OK</th>\n",
       "      <td>5.771</td>\n",
       "      <td>19.9</td>\n",
       "    </tr>\n",
       "    <tr>\n",
       "      <th>DC</th>\n",
       "      <td>1.593</td>\n",
       "      <td>5.9</td>\n",
       "    </tr>\n",
       "    <tr>\n",
       "      <th>WY</th>\n",
       "      <td>5.568</td>\n",
       "      <td>17.4</td>\n",
       "    </tr>\n",
       "    <tr>\n",
       "      <th>UT</th>\n",
       "      <td>1.808</td>\n",
       "      <td>11.3</td>\n",
       "    </tr>\n",
       "    <tr>\n",
       "      <th>RI</th>\n",
       "      <td>4.218</td>\n",
       "      <td>11.1</td>\n",
       "    </tr>\n",
       "  </tbody>\n",
       "</table>\n",
       "</div>"
      ],
      "text/plain": [
       "        alcohol  accidents\n",
       "abbrev                    \n",
       "CO        3.808       13.6\n",
       "NV        4.704       14.7\n",
       "AK        4.525       18.1\n",
       "ID        4.437       15.3\n",
       "MD        4.000       12.5\n",
       "OK        5.771       19.9\n",
       "DC        1.593        5.9\n",
       "WY        5.568       17.4\n",
       "UT        1.808       11.3\n",
       "RI        4.218       11.1"
      ]
     },
     "execution_count": 3,
     "metadata": {},
     "output_type": "execute_result"
    }
   ],
   "source": [
    "import seaborn as sns #!\n",
    "\n",
    "df = sns.load_dataset(name='car_crashes', index_col='abbrev')[['alcohol', 'total']]\n",
    "df.rename({'total': 'accidents'}, axis=1, inplace=True)\n",
    "df.sample(10)"
   ]
  },
  {
   "cell_type": "code",
   "execution_count": 4,
   "id": "b5f2743d-a170-4b52-bdf0-c09fbf44ad8a",
   "metadata": {},
   "outputs": [
    {
     "data": {
      "image/png": "[encoded data removed]",
      "text/plain": [
       "<Figure size 432x288 with 1 Axes>"
      ]
     },
     "metadata": {
      "needs_background": "light"
     },
     "output_type": "display_data"
    }
   ],
   "source": [
    "sns.scatterplot(x='alcohol', y='accidents', data=df); #!"
   ]
  },
  {
   "cell_type": "markdown",
   "id": "e79cd5fc-cfc1-4c4f-a92e-f75ceedcaa0c",
   "metadata": {
    "tags": []
   },
   "source": [
    "# Machine Learning, what does it mean?"
   ]
  },
  {
   "cell_type": "markdown",
   "id": "1c7ac7b7-c38f-4bf0-aace-d14660116dc6",
   "metadata": {},
   "source": [
    "> - The Machine Learns...\n",
    ">\n",
    "> But, **what does it learn?**"
   ]
  },
  {
   "cell_type": "code",
   "execution_count": 5,
   "id": "95166344-6911-4db3-9f14-7962f8641dd5",
   "metadata": {},
   "outputs": [
    {
     "data": {
      "text/html": [
       "<blockquote class=\"twitter-tweet\" data-lang=\"en\"><p lang=\"en\" dir=\"ltr\">Machine Learning, what does it mean? ⏯<br><br>· The machine learns...<br><br>Ha ha, not funny! 🤨 What does it learn?<br><br>· A mathematical equation. For example: <a href=\"https://t.co/sjtq9F2pq7\">pic.twitter.com/sjtq9F2pq7</a></p>&mdash; Jesús López (@sotastica) <a href=\"https://twitter.com/sotastica/status/1449735653328031745?ref_src=twsrc%5Etfw\">October 17, 2021</a></blockquote> <script async src=\"https://platform.twitter.com/widgets.js\" charset=\"utf-8\"></script>\n"
      ],
      "text/plain": [
       "<IPython.core.display.HTML object>"
      ]
     },
     "metadata": {},
     "output_type": "display_data"
    }
   ],
   "source": [
    "%%HTML\n",
    "<blockquote class=\"twitter-tweet\" data-lang=\"en\"><p lang=\"en\" dir=\"ltr\">Machine Learning, what does it mean? ⏯<br><br>· The machine learns...<br><br>Ha ha, not funny! 🤨 What does it learn?<br><br>· A mathematical equation. For example: <a href=\"https://t.co/sjtq9F2pq7\">pic.twitter.com/sjtq9F2pq7</a></p>&mdash; Jesús López (@sotastica) <a href=\"https://twitter.com/sotastica/status/1449735653328031745?ref_src=twsrc%5Etfw\">October 17, 2021</a></blockquote> <script async src=\"https://platform.twitter.com/widgets.js\" charset=\"utf-8\"></script>"
   ]
  },
  {
   "cell_type": "markdown",
   "id": "b2f4e57a-b0b7-4cef-b43f-5ca869088dcb",
   "metadata": {},
   "source": [
    "# How does the Machine Learn?"
   ]
  },
  {
   "cell_type": "markdown",
   "id": "3e619426-25cf-424e-a0de-d827359c97c0",
   "metadata": {},
   "source": [
    "## In a Linear Regression"
   ]
  },
  {
   "cell_type": "markdown",
   "id": "9541b8ec-6abd-4b27-aaf6-e4a9597fc266",
   "metadata": {},
   "source": [
    "<a href=\"http://www.youtube.com/watch?feature=player_embedded&v=Ht3rYS-JilE\" target=\"_blank\">\n",
    " <img src=\"http://img.youtube.com/vi/Ht3rYS-JilE/hqdefault.jpg\" alt=\"Watch the video\" width=\"560\" height=\"315\"/>\n",
    "</a>"
   ]
  },
  {
   "cell_type": "markdown",
   "id": "0fd91f21-ba27-4d7f-974b-35ed4b4021eb",
   "metadata": {},
   "source": [
    "## In a Neural Network"
   ]
  },
  {
   "cell_type": "markdown",
   "id": "5d8c04d1-c03b-4c36-b74d-2620dc051fe2",
   "metadata": {},
   "source": [
    "<a href=\"http://www.youtube.com/watch?feature=player_embedded&v=IHZwWFHWa-w?start=36\" target=\"_blank\">\n",
    " <img src=\"http://img.youtube.com/vi/IHZwWFHWa-w/hqdefault.jpg\" alt=\"Watch the video\" width=\"560\" height=\"315\"/>\n",
    "</a>"
   ]
  },
  {
   "cell_type": "markdown",
   "id": "bce2ba91-efaf-4276-96bf-7a16922bea17",
   "metadata": {},
   "source": [
    "A Practical Example → [Tesla Autopilot](https://www.tesla.com/AI)"
   ]
  },
  {
   "cell_type": "markdown",
   "id": "81dc68bf-e446-4369-8087-c4031f31e937",
   "metadata": {},
   "source": [
    "An Example where It Fails → [Tesla Confuses Moon with Semaphore](https://twitter.com/Carnage4Life/status/1418920100086784000?s=20)"
   ]
  },
  {
   "cell_type": "markdown",
   "id": "5da9584d-81f6-4b1b-82a1-ada59e63ce8e",
   "metadata": {},
   "source": [
    "# Guess the Mathematical Equation"
   ]
  },
  {
   "cell_type": "code",
   "execution_count": 7,
   "id": "22e042d9-0915-47dc-9e16-756dbf785701",
   "metadata": {},
   "outputs": [
    {
     "data": {
      "image/png": "[encoded data removed]",
      "text/plain": [
       "<Figure size 432x288 with 1 Axes>"
      ]
     },
     "metadata": {
      "needs_background": "light"
     },
     "output_type": "display_data"
    }
   ],
   "source": [
    "sns.scatterplot(x='alcohol', y='accidents', data=df); #!"
   ]
  },
  {
   "cell_type": "markdown",
   "id": "cd64e3d8-3e98-4985-bee1-40d7045312be",
   "metadata": {},
   "source": [
    "$$\n",
    "accidents = 2 + 2 \\cdot alcohol\n",
    "$$"
   ]
  },
  {
   "cell_type": "code",
   "execution_count": 8,
   "id": "0b2df9d0-10b2-4ab0-99c5-1c9aa9e54f54",
   "metadata": {},
   "outputs": [
    {
     "data": {
      "image/png": "[encoded data removed]",
      "text/plain": [
       "<Figure size 432x288 with 1 Axes>"
      ]
     },
     "metadata": {
      "needs_background": "light"
     },
     "output_type": "display_data"
    }
   ],
   "source": [
    "import matplotlib.pyplot as plt #!\n",
    "\n",
    "sns.scatterplot(x='alcohol', y='accidents', data=df);\n",
    "plt.axline(xy1=(0, 2), slope=2, color='red');"
   ]
  },
  {
   "cell_type": "markdown",
   "id": "5f325344-15ec-4547-80ad-a5779867c591",
   "metadata": {},
   "source": [
    "# Linear Regression Model"
   ]
  },
  {
   "cell_type": "markdown",
   "id": "afd9b011-c465-437e-bff4-dec261a02ba5",
   "metadata": {},
   "source": [
    "## Calculate the Best Mathematical Equation"
   ]
  },
  {
   "cell_type": "code",
   "execution_count": null,
   "id": "3fa68f4a-9391-416b-be12-35b0f179c02c",
   "metadata": {},
   "outputs": [],
   "source": []
  },
  {
   "cell_type": "markdown",
   "id": "8875441e-273b-42ed-a5f7-6f34da9cd58f",
   "metadata": {},
   "source": [
    "## Calculate the Predictions"
   ]
  },
  {
   "cell_type": "code",
   "execution_count": null,
   "id": "b3bf5047-e7f4-4f5e-9619-63def6e49b4b",
   "metadata": {},
   "outputs": [],
   "source": []
  },
  {
   "cell_type": "markdown",
   "id": "7b9d939c-f682-4b66-a2b3-6f153e4ae679",
   "metadata": {},
   "source": [
    "## Create a New Column for Predictions"
   ]
  },
  {
   "cell_type": "markdown",
   "id": "cda65f31-2a3c-4f4b-b367-7882e8e216b0",
   "metadata": {},
   "source": [
    "## Visualize the Predictions & Real Data"
   ]
  },
  {
   "cell_type": "code",
   "execution_count": null,
   "id": "f6f747f0-5ccc-4473-964b-64fd9c651154",
   "metadata": {},
   "outputs": [],
   "source": []
  },
  {
   "cell_type": "markdown",
   "id": "f803a05c-41d5-4d8d-888b-027c6595bf07",
   "metadata": {},
   "source": [
    "## How Good Is the Model?"
   ]
  },
  {
   "cell_type": "markdown",
   "id": "82674f2f-fb42-416b-84c5-9b24999c24aa",
   "metadata": {},
   "source": [
    "# Other Models?"
   ]
  },
  {
   "cell_type": "markdown",
   "id": "4fbdb38c-0dce-47e2-ab05-cab53245b734",
   "metadata": {},
   "source": [
    "## Random Forest"
   ]
  },
  {
   "cell_type": "markdown",
   "id": "5959783e-5947-413d-b61f-30022fe1a94f",
   "metadata": {},
   "source": [
    "### Calculate Mathematical Equation"
   ]
  },
  {
   "cell_type": "code",
   "execution_count": null,
   "id": "257fdc40-88e2-489d-920d-a91445d313a7",
   "metadata": {},
   "outputs": [],
   "source": []
  },
  {
   "cell_type": "markdown",
   "id": "2f668957-e672-4f16-bc1e-85057db58aa0",
   "metadata": {},
   "source": [
    "### Calculate Predictions"
   ]
  },
  {
   "cell_type": "code",
   "execution_count": null,
   "id": "7a2d2f96-3243-44a7-8aa1-64f68f58c393",
   "metadata": {},
   "outputs": [],
   "source": []
  },
  {
   "cell_type": "markdown",
   "id": "abf99d89-6c1a-4a6e-8af5-566a7c4c22e0",
   "metadata": {},
   "source": [
    "## Support Vector Machines"
   ]
  },
  {
   "cell_type": "markdown",
   "id": "000eda33-ef7f-40d7-be9a-551b8836417a",
   "metadata": {},
   "source": [
    "### Calculate Mathematical Equation"
   ]
  },
  {
   "cell_type": "code",
   "execution_count": null,
   "id": "7ae26f8f-5c95-4714-bf66-c458833bbe89",
   "metadata": {},
   "outputs": [],
   "source": []
  },
  {
   "cell_type": "markdown",
   "id": "00c5b630-abaf-4ca4-930e-04988fa2cc75",
   "metadata": {},
   "source": [
    "### Calculate Predictions"
   ]
  },
  {
   "cell_type": "code",
   "execution_count": null,
   "id": "58d1c138-634a-4c6d-b92a-778b2a11c563",
   "metadata": {},
   "outputs": [],
   "source": []
  },
  {
   "cell_type": "markdown",
   "id": "2192188f-e483-494c-9466-4f0a4910e251",
   "metadata": {},
   "source": [
    "# Visualize & Choose the Best Model"
   ]
  },
  {
   "cell_type": "code",
   "execution_count": null,
   "id": "83e92083-9f5c-4182-b1d2-d4c491c3924d",
   "metadata": {},
   "outputs": [],
   "source": []
  },
  {
   "cell_type": "markdown",
   "id": "0cf37752-02e4-479f-832a-0fc880ea25a2",
   "metadata": {},
   "source": [
    "# How Good Is Every Model?"
   ]
  },
  {
   "cell_type": "code",
   "execution_count": null,
   "id": "93127902-8df5-48f4-8804-1ac6c4bdda1c",
   "metadata": {},
   "outputs": [],
   "source": []
  }
 ],
 "metadata": {
  "kernelspec": {
   "display_name": "Python 3 (ipykernel)",
   "language": "python",
   "name": "python3"
  },
  "language_info": {
   "codemirror_mode": {
    "name": "ipython",
    "version": 3
   },
   "file_extension": ".py",
   "mimetype": "text/x-python",
   "name": "python",
   "nbconvert_exporter": "python",
   "pygments_lexer": "ipython3",
   "version": "3.9.7"
  }
 },
 "nbformat": 4,
 "nbformat_minor": 5
}
