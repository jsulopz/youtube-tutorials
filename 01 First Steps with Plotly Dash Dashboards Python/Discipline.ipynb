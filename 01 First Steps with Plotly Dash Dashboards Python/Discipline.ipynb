{
 "cells": [
  {
   "cell_type": "markdown",
   "id": "f91e3788-79be-46eb-909f-4a276f0bf3fd",
   "metadata": {},
   "source": [
    "# Culture"
   ]
  },
  {
   "cell_type": "markdown",
   "id": "203abff4-fe71-4f00-9213-7df3f35e052e",
   "metadata": {},
   "source": [
    "1. Be result. It matters the thinking process. Not getting the correct result\n",
    "2. Self-learning. Everytime ask yourself about how should I think to come up with the solution\n",
    "    1. Deducing Method\n",
    "    2. Google Method\n",
    "3. Don't think about getting the solution\n",
    "    - Otherwise, you will always need extra help to solve any question"
   ]
  },
  {
   "cell_type": "markdown",
   "id": "2e30fdbb-4c1d-4709-8b54-f78f3184c527",
   "metadata": {},
   "source": [
    "# Discipline to Solve Problems\n",
    "\n",
    "1. What do you want? [Sketch Result](https://github.com/jsulopz/python-resolver-discipline/blob/main/01_Code%20of%20Discipline/01_Sketch%20the%20Result.md)"
   ]
  },
  {
   "cell_type": "code",
   "execution_count": null,
   "id": "3366f710-5a49-482e-8cf4-7318afbb26d7",
   "metadata": {},
   "outputs": [],
   "source": []
  },
  {
   "cell_type": "markdown",
   "id": "0fb4cf82-a5fc-4623-b69d-34b646b4b33d",
   "metadata": {},
   "source": [
    "2. How will you get there?"
   ]
  },
  {
   "cell_type": "code",
   "execution_count": null,
   "id": "3781829c-c9af-4e04-ac70-737c1a999303",
   "metadata": {},
   "outputs": [],
   "source": []
  },
  {
   "cell_type": "markdown",
   "id": "1c5c722a-7f4c-472a-8ff2-be4e6f073cd0",
   "metadata": {},
   "source": [
    "3. Feedback & Other Concepts to Learn along the way"
   ]
  },
  {
   "cell_type": "code",
   "execution_count": null,
   "id": "375dd06f-d05f-4854-816c-85d7701cefc3",
   "metadata": {},
   "outputs": [],
   "source": []
  }
 ],
 "metadata": {
  "kernelspec": {
   "display_name": "Python 3 (ipykernel)",
   "language": "python",
   "name": "python3"
  },
  "language_info": {
   "codemirror_mode": {
    "name": "ipython",
    "version": 3
   },
   "file_extension": ".py",
   "mimetype": "text/x-python",
   "name": "python",
   "nbconvert_exporter": "python",
   "pygments_lexer": "ipython3",
   "version": "3.9.7"
  }
 },
 "nbformat": 4,
 "nbformat_minor": 5
}
